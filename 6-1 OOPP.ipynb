{
 "cells": [
  {
   "cell_type": "markdown",
   "metadata": {},
   "source": [
    "# ML with python"
   ]
  },
  {
   "cell_type": "markdown",
   "metadata": {},
   "source": [
    "## build OOPP(Object Oriented Programming Perceptron) class"
   ]
  },
  {
   "cell_type": "code",
   "execution_count": 1,
   "metadata": {},
   "outputs": [],
   "source": [
    "class Perceptron:\n",
    "    \"\"\"implements an one-neuron perceptron which performs a linear binary classification\"\"\"\n",
    "    def __init__(self, eta=0.1, epochs=10, random_seed=1):\n",
    "        self.eta = eta\n",
    "        self.epochs = epochs\n",
    "        self.random_seed = random_seed\n",
    "        \n",
    "    def fit(self, X, y, X0=False):\n",
    "        if X0 == False:\n",
    "            X = np.c_[np.ones(len(y)), X]\n",
    "        np.random.seed(self.random_seed)\n",
    "        self.w = np.random.random(X.shape[1])\n",
    "        \n",
    "        self.maxy, self.miny = y.max(), y.min()\n",
    "        self.cost_ = []\n",
    "        self.w_ = np.array([self.w])\n",
    "        \n",
    "        for i in range(self.epochs):\n",
    "            errors = 0\n",
    "            for xi, yi in zip(X, y):\n",
    "                yhat = self.activate(xi)\n",
    "                delta = self.eta * (yi-yhat) * xi\n",
    "                self.w = self.w + delta\n",
    "                if (y != yhat):\n",
    "                    errors += 1\n",
    "            self.cost_.append(errors)\n",
    "            self.w_ = np.vstack([self.w_, self.w])\n",
    "        return self\n",
    "    \n",
    "    def net_input(self, X):\n",
    "        if X.shape[0] == self.w.shape[0]:\n",
    "            z = np.dot(self.w.T, X)\n",
    "        else:\n",
    "            z = np.dot(X, self.w[1:]) + self.w[0]\n",
    "        return z\n",
    "    \n",
    "    def activate(self, X):\n",
    "        mid = (self.maxy + self.miny) / 2\n",
    "        return np.where(self.net_input(X) > mid, self.maxy, self.miny)\n",
    "    \n",
    "    def predict(self, X):\n",
    "        return self.activate(X)"
   ]
  },
  {
   "cell_type": "code",
   "execution_count": null,
   "metadata": {},
   "outputs": [],
   "source": []
  }
 ],
 "metadata": {
  "kernelspec": {
   "display_name": "Python 3",
   "language": "python",
   "name": "python3"
  },
  "language_info": {
   "codemirror_mode": {
    "name": "ipython",
    "version": 3
   },
   "file_extension": ".py",
   "mimetype": "text/x-python",
   "name": "python",
   "nbconvert_exporter": "python",
   "pygments_lexer": "ipython3",
   "version": "3.6.6"
  }
 },
 "nbformat": 4,
 "nbformat_minor": 2
}
