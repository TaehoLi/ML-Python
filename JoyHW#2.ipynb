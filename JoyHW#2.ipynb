{
 "cells": [
  {
   "cell_type": "markdown",
   "metadata": {},
   "source": [
    "# Read joydata.txt"
   ]
  },
  {
   "cell_type": "code",
   "execution_count": 1,
   "metadata": {},
   "outputs": [
    {
     "name": "stdout",
     "output_type": "stream",
     "text": [
      "C:\\Users\\이태호\\주피터 노트북\\ML_Python\n"
     ]
    }
   ],
   "source": [
    "!cd"
   ]
  },
  {
   "cell_type": "code",
   "execution_count": 2,
   "metadata": {},
   "outputs": [
    {
     "name": "stdout",
     "output_type": "stream",
     "text": [
      "[[-1.72 -3.12  1.  ]\n",
      " [ 0.31  1.85  1.  ]\n",
      " [ 1.56  2.85  1.  ]\n",
      " [ 2.64  2.41  1.  ]\n",
      " [ 1.23  2.54  1.  ]]\n"
     ]
    }
   ],
   "source": [
    "import numpy as np\n",
    "data = np.genfromtxt('asset-v1_HGUk+HGU05+2018_T1+type@asset+block@JoyML/data/joydata.txt')\n",
    "print(data[:5])"
   ]
  },
  {
   "cell_type": "markdown",
   "metadata": {},
   "source": [
    "# After shuffling, divide train and test set in 7:3 ratio"
   ]
  },
  {
   "cell_type": "code",
   "execution_count": 3,
   "metadata": {},
   "outputs": [],
   "source": [
    "np.random.seed(1)\n",
    "np.random.shuffle(data)\n",
    "\n",
    "x, y = data[:,:2], data[:,2]\n",
    "y = y.astype(np.int)\n",
    "\n",
    "num = int(x.shape[0] * 0.7)\n",
    "x_train, x_test = x[:num], x[num:]\n",
    "y_train, y_test = y[:num], y[num:]"
   ]
  },
  {
   "cell_type": "markdown",
   "metadata": {},
   "source": [
    "# add bias to feature"
   ]
  },
  {
   "cell_type": "code",
   "execution_count": 4,
   "metadata": {},
   "outputs": [
    {
     "name": "stdout",
     "output_type": "stream",
     "text": [
      "[[ 1.   -2.64 -2.2 ]\n",
      " [ 1.   -2.97 -1.53]\n",
      " [ 1.    1.    0.46]\n",
      " [ 1.   -2.84 -3.22]\n",
      " [ 1.   -0.05 -1.95]]\n"
     ]
    }
   ],
   "source": [
    "X_train = np.c_[np.ones(len(x_train)), x_train]\n",
    "X_test = np.c_[np.ones(len(x_test)), x_test]\n",
    "print(X_train[:5])"
   ]
  },
  {
   "cell_type": "markdown",
   "metadata": {},
   "source": [
    "# Find weight using perceptron"
   ]
  },
  {
   "cell_type": "code",
   "execution_count": 5,
   "metadata": {},
   "outputs": [],
   "source": [
    "def perceptron_train(X, y, X0=False, eta=0.1, epochs=1, random_seed=1):\n",
    "    \"\"\"  Perceptron training function for binary class labels\n",
    "    Input Parameters\n",
    "        X : numpy.ndarray, shape=(n_samples, m_features), by default X0=False\n",
    "            A 2D NumPy array containing the training examples\n",
    "            or \n",
    "            If X0=True, X's shape=(n_samples, m_features+1) \n",
    "            It includes the bias or x0 = 1 for all samples \n",
    "        \n",
    "        y : numpy.ndarray, shape=(n_samples,)\n",
    "            A 1D NumPy array containing the true class labels\n",
    "        \n",
    "        X0: If True, then X must have X_0 = 1 in all samples.\n",
    "             Set it Faslse, if X does not have X_0 \n",
    "        \n",
    "        eta : float (default: 0.1) \n",
    "            A learning rate for the parameter updates. Note that a learning\n",
    "            rate has no effect on the direction of the decision boundary\n",
    "            if the model weights are initialized to all zeros.\n",
    "        \n",
    "        epochs : int (default: 1), Number of passes over the training dataset.\n",
    "        \n",
    "        random_seed : int or None (default: 1)\n",
    "            Seed for the pseudo-random number generator that initializes the\n",
    "            weights w if w is None.\n",
    "    \n",
    "    Returns \n",
    "        w : numpy.ndarray, shape=(m_features, )\n",
    "    \n",
    "        If you wants W : numpy.ndarray, shape=(epochs, m_features) to use \n",
    "        when calling , then invoke this function with epochs = 1 multiple times \n",
    "        and save the result in the form of W = np.vstack([W, w]). \n",
    "        You may initialize the W = np.array([w]), where w is an initial weights.\n",
    "    \"\"\"\n",
    "    if X0 == False:\n",
    "        X = np.c_[ np.ones(len(X)), X ]\n",
    "    \n",
    "    randnum = np.random.RandomState(random_seed) \n",
    "    w = randnum.normal(loc=0.0, scale=0.01, size=X.shape[1])\n",
    "           \n",
    "    maxlabel, minlabel = y.max(), y.min()                 # for use of bipolar or unit step function\n",
    "    for _ in range(epochs):\n",
    "        for xi, yi in zip(X, y):\n",
    "            z = np.dot(xi, w)                             # Compute net input, same as np.dot(w.T, x)\n",
    "            yhat = np.where(z > 0.0, maxlabel, minlabel)  # Apply unit step func and get output\n",
    "            #print('xi{}, \\t (yi,yhat)=({},{})'.format(np.round(xi,2), yi, yhat))\n",
    "            if yi != yhat:\n",
    "                delta = eta * (yi - yhat) * xi                # Compute delta    \n",
    "                w += delta                                    # Adjust weight\n",
    "                #print('xi{}, \\t (yi,yhat)=({},{}), delta{}, w{}'.format\n",
    "                #         (np.round(xi,2), yi, yhat, np.round(delta,2), np.round(w,2)))\n",
    "        \n",
    "    return w"
   ]
  },
  {
   "cell_type": "code",
   "execution_count": 6,
   "metadata": {},
   "outputs": [
    {
     "name": "stdout",
     "output_type": "stream",
     "text": [
      "w =  [-0.01558773  0.0174913   0.00890771]\n"
     ]
    }
   ],
   "source": [
    "w = perceptron_train(X_train, y_train, X0=True, eta=0.02, epochs=2, random_seed=5)\n",
    "print('w = ', w)"
   ]
  },
  {
   "cell_type": "markdown",
   "metadata": {},
   "source": [
    "# Predict & Evaluate about train and test set"
   ]
  },
  {
   "cell_type": "markdown",
   "metadata": {},
   "source": [
    "### case1)"
   ]
  },
  {
   "cell_type": "code",
   "execution_count": 10,
   "metadata": {},
   "outputs": [
    {
     "data": {
      "image/png": "[encoded data removed]",
      "text/plain": [
       "<Figure size 432x288 with 1 Axes>"
      ]
     },
     "metadata": {
      "needs_background": "light"
     },
     "output_type": "display_data"
    }
   ],
   "source": [
    "%run asset-v1_HGUk+HGU05+2018_T1+type@asset+block@JoyML/code/plot_xyw.py\n",
    "\n",
    "plot_xyw(X_train, y_train, w.flatten(), X0=True)\n",
    "plot_xyw(X_test, y_test, w.flatten(), X0=True)"
   ]
  },
  {
   "cell_type": "code",
   "execution_count": 11,
   "metadata": {},
   "outputs": [],
   "source": [
    "def perceptron_predict(X, w):\n",
    "    z = np.dot(X, w)\n",
    "    yhat = np.where(z > 0., 1, 0)\n",
    "    return yhat"
   ]
  },
  {
   "cell_type": "code",
   "execution_count": 12,
   "metadata": {},
   "outputs": [
    {
     "name": "stdout",
     "output_type": "stream",
     "text": [
      "Misclassified:1/70\n",
      "Misclassified:0/30\n"
     ]
    }
   ],
   "source": [
    "yhat1 = perceptron_predict(X_train, w)\n",
    "yhat2 = perceptron_predict(X_test, w)\n",
    "\n",
    "missed1, missed2 = 0, 0\n",
    "m_samples1 = len(y_train)\n",
    "m_samples2 = len(y_test)\n",
    "\n",
    "missed1 = np.sum(yhat1.flatten() != y_train)\n",
    "missed2 = np.sum(yhat2.flatten() != y_test)\n",
    "\n",
    "print(\"Misclassified:{}/{}\".format(missed1, m_samples1))\n",
    "print(\"Misclassified:{}/{}\".format(missed2, m_samples2))"
   ]
  },
  {
   "cell_type": "markdown",
   "metadata": {},
   "source": [
    "### case2)\n"
   ]
  },
  {
   "cell_type": "code",
   "execution_count": 13,
   "metadata": {},
   "outputs": [
    {
     "name": "stdout",
     "output_type": "stream",
     "text": [
      "Misclassified:1/70\n",
      "Misclassified:0/30\n"
     ]
    },
    {
     "data": {
      "image/png": "[encoded data removed]",
      "text/plain": [
       "<Figure size 432x288 with 1 Axes>"
      ]
     },
     "metadata": {
      "needs_background": "light"
     },
     "output_type": "display_data"
    }
   ],
   "source": [
    "w = perceptron_train(X_train, y_train, X0=True, eta=0.03, epochs=2, random_seed=8)\n",
    "\n",
    "%run asset-v1_HGUk+HGU05+2018_T1+type@asset+block@JoyML/code/plot_xyw.py\n",
    "\n",
    "plot_xyw(X_train, y_train, w.flatten(), X0=True)\n",
    "plot_xyw(X_test, y_test, w.flatten(), X0=True)\n",
    "\n",
    "yhat1 = perceptron_predict(X_train, w)\n",
    "yhat2 = perceptron_predict(X_test, w)\n",
    "\n",
    "missed1, missed2 = 0, 0\n",
    "m_samples1 = len(y_train)\n",
    "m_samples2 = len(y_test)\n",
    "\n",
    "missed1 = np.sum(yhat1.flatten() != y_train)\n",
    "missed2 = np.sum(yhat2.flatten() != y_test)\n",
    "\n",
    "print(\"Misclassified:{}/{}\".format(missed1, m_samples1))\n",
    "print(\"Misclassified:{}/{}\".format(missed2, m_samples2))"
   ]
  },
  {
   "cell_type": "markdown",
   "metadata": {},
   "source": [
    "### case3)"
   ]
  },
  {
   "cell_type": "code",
   "execution_count": 15,
   "metadata": {},
   "outputs": [
    {
     "name": "stdout",
     "output_type": "stream",
     "text": [
      "Misclassified:1/70\n",
      "Misclassified:0/30\n"
     ]
    },
    {
     "data": {
      "image/png": "[encoded data removed]",
      "text/plain": [
       "<Figure size 432x288 with 1 Axes>"
      ]
     },
     "metadata": {
      "needs_background": "light"
     },
     "output_type": "display_data"
    }
   ],
   "source": [
    "w = perceptron_train(X_train, y_train, X0=True, eta=0.04, epochs=2, random_seed=10)\n",
    "\n",
    "%run asset-v1_HGUk+HGU05+2018_T1+type@asset+block@JoyML/code/plot_xyw.py\n",
    "\n",
    "plot_xyw(X_train, y_train, w.flatten(), X0=True)\n",
    "plot_xyw(X_test, y_test, w.flatten(), X0=True)\n",
    "\n",
    "yhat1 = perceptron_predict(X_train, w)\n",
    "yhat2 = perceptron_predict(X_test, w)\n",
    "\n",
    "missed1, missed2 = 0, 0\n",
    "m_samples1 = len(y_train)\n",
    "m_samples2 = len(y_test)\n",
    "\n",
    "missed1 = np.sum(yhat1.flatten() != y_train)\n",
    "missed2 = np.sum(yhat2.flatten() != y_test)\n",
    "\n",
    "print(\"Misclassified:{}/{}\".format(missed1, m_samples1))\n",
    "print(\"Misclassified:{}/{}\".format(missed2, m_samples2))"
   ]
  },
  {
   "cell_type": "markdown",
   "metadata": {},
   "source": [
    "### case4)"
   ]
  },
  {
   "cell_type": "code",
   "execution_count": 16,
   "metadata": {},
   "outputs": [
    {
     "name": "stdout",
     "output_type": "stream",
     "text": [
      "Misclassified:2/70\n",
      "Misclassified:0/30\n"
     ]
    },
    {
     "data": {
      "image/png": "[encoded data removed]",
      "text/plain": [
       "<Figure size 432x288 with 1 Axes>"
      ]
     },
     "metadata": {
      "needs_background": "light"
     },
     "output_type": "display_data"
    }
   ],
   "source": [
    "w = perceptron_train(X_train, y_train, X0=True, eta=0.05, epochs=2, random_seed=10)\n",
    "\n",
    "%run asset-v1_HGUk+HGU05+2018_T1+type@asset+block@JoyML/code/plot_xyw.py\n",
    "\n",
    "plot_xyw(X_train, y_train, w.flatten(), X0=True)\n",
    "plot_xyw(X_test, y_test, w.flatten(), X0=True)\n",
    "\n",
    "yhat1 = perceptron_predict(X_train, w)\n",
    "yhat2 = perceptron_predict(X_test, w)\n",
    "\n",
    "missed1, missed2 = 0, 0\n",
    "m_samples1 = len(y_train)\n",
    "m_samples2 = len(y_test)\n",
    "\n",
    "missed1 = np.sum(yhat1.flatten() != y_train)\n",
    "missed2 = np.sum(yhat2.flatten() != y_test)\n",
    "\n",
    "print(\"Misclassified:{}/{}\".format(missed1, m_samples1))\n",
    "print(\"Misclassified:{}/{}\".format(missed2, m_samples2))"
   ]
  },
  {
   "cell_type": "code",
   "execution_count": null,
   "metadata": {},
   "outputs": [],
   "source": []
  }
 ],
 "metadata": {
  "kernelspec": {
   "display_name": "Python 3",
   "language": "python",
   "name": "python3"
  },
  "language_info": {
   "codemirror_mode": {
    "name": "ipython",
    "version": 3
   },
   "file_extension": ".py",
   "mimetype": "text/x-python",
   "name": "python",
   "nbconvert_exporter": "python",
   "pygments_lexer": "ipython3",
   "version": "3.6.6"
  }
 },
 "nbformat": 4,
 "nbformat_minor": 2
}
