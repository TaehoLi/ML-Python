{
 "cells": [
  {
   "cell_type": "markdown",
   "metadata": {},
   "source": [
    "# ML with python"
   ]
  },
  {
   "cell_type": "markdown",
   "metadata": {},
   "source": [
    "## OOP(Object Oriented Programming)"
   ]
  },
  {
   "cell_type": "markdown",
   "metadata": {},
   "source": [
    "### Class Design"
   ]
  },
  {
   "cell_type": "code",
   "execution_count": 1,
   "metadata": {},
   "outputs": [],
   "source": [
    "class Car:\n",
    "    def __init__(self, length, weight):\n",
    "        self.length = length\n",
    "        self.weight = weight\n",
    "        self.speed = 0\n",
    "    def forward(self):\n",
    "        print(\"Move Forward!\")\n",
    "    def backward(self):\n",
    "        print(\"Move Backward!\")\n",
    "    def move(self, owner):\n",
    "        owner.pos += 10\n",
    "    def speedUP(self):\n",
    "        self.speed += 10\n",
    "    def change(self, length, weight):\n",
    "        self.length = length\n",
    "        self.weight = weight"
   ]
  },
  {
   "cell_type": "code",
   "execution_count": 3,
   "metadata": {},
   "outputs": [
    {
     "name": "stdout",
     "output_type": "stream",
     "text": [
      "3.5\n",
      "1200\n"
     ]
    }
   ],
   "source": [
    "myCar = Car(4, 1380)\n",
    "myCar.change(3.5, 1200)\n",
    "print(myCar.length)\n",
    "print(myCar.weight)"
   ]
  },
  {
   "cell_type": "code",
   "execution_count": 2,
   "metadata": {},
   "outputs": [],
   "source": [
    "class Person:\n",
    "    def __init__(self):\n",
    "        self.pos = 0\n",
    "    def start(self, Car):\n",
    "        print(\"Whoom!!\")  "
   ]
  },
  {
   "cell_type": "markdown",
   "metadata": {},
   "source": [
    "## Example"
   ]
  },
  {
   "cell_type": "code",
   "execution_count": 4,
   "metadata": {},
   "outputs": [
    {
     "name": "stdout",
     "output_type": "stream",
     "text": [
      "4\n",
      "1380\n"
     ]
    }
   ],
   "source": [
    "myCar = Car(4, 1380)\n",
    "print(myCar.length)\n",
    "print(myCar.weight)"
   ]
  },
  {
   "cell_type": "code",
   "execution_count": 5,
   "metadata": {},
   "outputs": [
    {
     "name": "stdout",
     "output_type": "stream",
     "text": [
      "Move Forward!\n",
      "Move Backward!\n"
     ]
    }
   ],
   "source": [
    "myCar.forward()\n",
    "myCar.backward()"
   ]
  },
  {
   "cell_type": "code",
   "execution_count": 6,
   "metadata": {},
   "outputs": [
    {
     "name": "stdout",
     "output_type": "stream",
     "text": [
      "Whoom!!\n"
     ]
    }
   ],
   "source": [
    "myCar = Car(4, 1380)\n",
    "owner = Person()\n",
    "owner.start(myCar)"
   ]
  },
  {
   "cell_type": "code",
   "execution_count": 7,
   "metadata": {},
   "outputs": [
    {
     "name": "stdout",
     "output_type": "stream",
     "text": [
      "0\n",
      "10\n"
     ]
    }
   ],
   "source": [
    "owner = Person()\n",
    "print(owner.pos)\n",
    "myCar.move(owner)\n",
    "print(owner.pos)"
   ]
  },
  {
   "cell_type": "code",
   "execution_count": 8,
   "metadata": {},
   "outputs": [
    {
     "name": "stdout",
     "output_type": "stream",
     "text": [
      "10\n",
      "0\n"
     ]
    }
   ],
   "source": [
    "myCar = Car(4, 1380)\n",
    "yourCar = Car(4, 1500)\n",
    "\n",
    "myCar.speedUP()\n",
    "print(myCar.speed)\n",
    "print(yourCar.speed)"
   ]
  },
  {
   "cell_type": "code",
   "execution_count": null,
   "metadata": {},
   "outputs": [],
   "source": []
  }
 ],
 "metadata": {
  "kernelspec": {
   "display_name": "Python 3",
   "language": "python",
   "name": "python3"
  },
  "language_info": {
   "codemirror_mode": {
    "name": "ipython",
    "version": 3
   },
   "file_extension": ".py",
   "mimetype": "text/x-python",
   "name": "python",
   "nbconvert_exporter": "python",
   "pygments_lexer": "ipython3",
   "version": "3.6.6"
  }
 },
 "nbformat": 4,
 "nbformat_minor": 2
}
