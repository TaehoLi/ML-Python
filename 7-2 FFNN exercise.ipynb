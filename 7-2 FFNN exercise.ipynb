{
 "cells": [
  {
   "cell_type": "markdown",
   "metadata": {},
   "source": [
    "# 7-2 FeedForwardEx"
   ]
  },
  {
   "cell_type": "code",
   "execution_count": 1,
   "metadata": {},
   "outputs": [
    {
     "data": {
      "text/plain": [
       "'C:\\\\Users\\\\이태호\\\\주피터 노트북\\\\ML_Python'"
      ]
     },
     "execution_count": 1,
     "metadata": {},
     "output_type": "execute_result"
    }
   ],
   "source": [
    "import os\n",
    "os.getcwd()"
   ]
  },
  {
   "cell_type": "code",
   "execution_count": 2,
   "metadata": {},
   "outputs": [],
   "source": [
    "os.chdir('C:/Users/이태호/주피터 노트북/KMOOC-ML')"
   ]
  },
  {
   "cell_type": "code",
   "execution_count": 3,
   "metadata": {},
   "outputs": [
    {
     "name": "stdout",
     "output_type": "stream",
     "text": [
      "image(class label): 7\n",
      "[0] = 0.0\n",
      "[1] = 0.002\n",
      "[2] = 0.001\n",
      "[3] = 0.0\n",
      "[4] = 0.0\n",
      "[5] = 0.001\n",
      "[6] = 0.0\n",
      "[7] = 0.979\n",
      "[8] = 0.006\n",
      "[9] = 0.003\n",
      "image(predicted) =  7\n"
     ]
    }
   ],
   "source": [
    "import joy\n",
    "import numpy as np\n",
    "\n",
    "g = lambda x : 1 / (1 + np.exp(-x)) #activation function(sigmoid)\n",
    "\n",
    "(X,y) = joy.load_mnist_num(7) #supervised learning\n",
    "W1 = joy.load_mnist_weight('data/w_xh.weights') #already learned\n",
    "Z1 = np.dot(W1, X) #net input\n",
    "A1 = g(Z1) #hidden layer's output\n",
    "\n",
    "W2 = joy.load_mnist_weight('data/w_hy.weights') #already learned\n",
    "Z2 = np.dot(W2, A1) #net input\n",
    "yhat = g(Z2) #last output\n",
    "\n",
    "print('image(class label):', y)\n",
    "# print('predict:', np.round_(yhat, 3))\n",
    "# print yhat one by one\n",
    "for i, iyhat in enumerate(yhat):\n",
    "    print('[{}] = {}'.format(i, np.round(yhat[i], 3)))\n",
    "    \n",
    "print('image(predicted) = ', np.argmax(yhat))"
   ]
  },
  {
   "cell_type": "code",
   "execution_count": 4,
   "metadata": {},
   "outputs": [
    {
     "name": "stdout",
     "output_type": "stream",
     "text": [
      "image(class label): 5\n",
      "[0] = 0.033\n",
      "[1] = 0.001\n",
      "[2] = 0.0\n",
      "[3] = 0.117\n",
      "[4] = 0.001\n",
      "[5] = 0.997\n",
      "[6] = 0.0\n",
      "[7] = 0.0\n",
      "[8] = 0.0\n",
      "[9] = 0.004\n",
      "image(predicted) =  5\n"
     ]
    }
   ],
   "source": [
    "import joy\n",
    "import numpy as np\n",
    "\n",
    "g = lambda x : 1 / (1 + np.exp(-x)) #activation function(sigmoid)\n",
    "\n",
    "(X,y) = joy.load_mnist_num(5) #supervised learning\n",
    "W1 = joy.load_mnist_weight('data/w_xh.weights') #already learned\n",
    "Z1 = np.dot(W1, X) #net input\n",
    "A1 = g(Z1) #hidden layer's output\n",
    "\n",
    "W2 = joy.load_mnist_weight('data/w_hy.weights') #already learned\n",
    "Z2 = np.dot(W2, A1) #net input\n",
    "yhat = g(Z2) #last output\n",
    "\n",
    "print('image(class label):', y)\n",
    "# print('predict:', np.round_(yhat, 3))\n",
    "# print yhat one by one\n",
    "for i, iyhat in enumerate(yhat):\n",
    "    print('[{}] = {}'.format(i, np.round(yhat[i], 3)))\n",
    "    \n",
    "print('image(predicted) = ', np.argmax(yhat))"
   ]
  },
  {
   "cell_type": "code",
   "execution_count": 5,
   "metadata": {},
   "outputs": [
    {
     "name": "stdout",
     "output_type": "stream",
     "text": [
      "image(class label): 0\n",
      "[0] = 0.995\n",
      "[1] = 0.011\n",
      "[2] = 0.002\n",
      "[3] = 0.003\n",
      "[4] = 0.011\n",
      "[5] = 0.018\n",
      "[6] = 0.006\n",
      "[7] = 0.001\n",
      "[8] = 0.005\n",
      "[9] = 0.007\n",
      "image(predicted) =  0\n"
     ]
    }
   ],
   "source": [
    "import joy\n",
    "import numpy as np\n",
    "\n",
    "g = lambda x : 1 / (1 + np.exp(-x)) #activation function(sigmoid)\n",
    "\n",
    "(X,y) = joy.load_mnist_num(0) #supervised learning\n",
    "W1 = joy.load_mnist_weight('data/w_xh.weights') #already learned\n",
    "Z1 = np.dot(W1, X) #net input\n",
    "A1 = g(Z1) #hidden layer's output\n",
    "\n",
    "W2 = joy.load_mnist_weight('data/w_hy.weights') #already learned\n",
    "Z2 = np.dot(W2, A1) #net input\n",
    "yhat = g(Z2) #last output\n",
    "\n",
    "print('image(class label):', y)\n",
    "# print('predict:', np.round_(yhat, 3))\n",
    "# print yhat one by one\n",
    "for i, iyhat in enumerate(yhat):\n",
    "    print('[{}] = {}'.format(i, np.round(yhat[i], 3)))\n",
    "    \n",
    "print('image(predicted) = ', np.argmax(yhat))"
   ]
  },
  {
   "cell_type": "code",
   "execution_count": 6,
   "metadata": {},
   "outputs": [
    {
     "name": "stdout",
     "output_type": "stream",
     "text": [
      "image(class label): 4\n",
      "[0] = 0.004\n",
      "[1] = 0.001\n",
      "[2] = 0.003\n",
      "[3] = 0.008\n",
      "[4] = 0.98\n",
      "[5] = 0.001\n",
      "[6] = 0.0\n",
      "[7] = 0.001\n",
      "[8] = 0.0\n",
      "[9] = 0.002\n",
      "image(predicted) =  4\n"
     ]
    }
   ],
   "source": [
    "import joy\n",
    "import numpy as np\n",
    "\n",
    "g = lambda x : 1 / (1 + np.exp(-x)) #activation function(sigmoid)\n",
    "\n",
    "(X,y) = joy.load_mnist_num(4) #supervised learning\n",
    "W1 = joy.load_mnist_weight('data/w_xh.weights') #already learned\n",
    "Z1 = np.dot(W1, X) #net input\n",
    "A1 = g(Z1) #hidden layer's output\n",
    "\n",
    "W2 = joy.load_mnist_weight('data/w_hy.weights') #already learned\n",
    "Z2 = np.dot(W2, A1) #net input\n",
    "yhat = g(Z2) #last output\n",
    "\n",
    "print('image(class label):', y)\n",
    "# print('predict:', np.round_(yhat, 3))\n",
    "# print yhat one by one\n",
    "for i, iyhat in enumerate(yhat):\n",
    "    print('[{}] = {}'.format(i, np.round(yhat[i], 3)))\n",
    "    \n",
    "print('image(predicted) = ', np.argmax(yhat))"
   ]
  },
  {
   "cell_type": "code",
   "execution_count": 7,
   "metadata": {},
   "outputs": [
    {
     "name": "stdout",
     "output_type": "stream",
     "text": [
      "image(class label): 1\n",
      "[0] = 0.001\n",
      "[1] = 0.976\n",
      "[2] = 0.009\n",
      "[3] = 0.001\n",
      "[4] = 0.021\n",
      "[5] = 0.017\n",
      "[6] = 0.001\n",
      "[7] = 0.004\n",
      "[8] = 0.005\n",
      "[9] = 0.001\n",
      "image(predicted) =  1\n"
     ]
    }
   ],
   "source": [
    "import joy\n",
    "import numpy as np\n",
    "\n",
    "g = lambda x : 1 / (1 + np.exp(-x)) #activation function(sigmoid)\n",
    "\n",
    "(X,y) = joy.load_mnist_num(1) #supervised learning\n",
    "W1 = joy.load_mnist_weight('data/w_xh.weights') #already learned\n",
    "Z1 = np.dot(W1, X) #net input\n",
    "A1 = g(Z1) #hidden layer's output\n",
    "\n",
    "W2 = joy.load_mnist_weight('data/w_hy.weights') #already learned\n",
    "Z2 = np.dot(W2, A1) #net input\n",
    "yhat = g(Z2) #last output\n",
    "\n",
    "print('image(class label):', y)\n",
    "# print('predict:', np.round_(yhat, 3))\n",
    "# print yhat one by one\n",
    "for i, iyhat in enumerate(yhat):\n",
    "    print('[{}] = {}'.format(i, np.round(yhat[i], 3)))\n",
    "    \n",
    "print('image(predicted) = ', np.argmax(yhat))"
   ]
  },
  {
   "cell_type": "code",
   "execution_count": 8,
   "metadata": {},
   "outputs": [
    {
     "name": "stdout",
     "output_type": "stream",
     "text": [
      "image(class label): 9\n",
      "[0] = 0.005\n",
      "[1] = 0.002\n",
      "[2] = 0.002\n",
      "[3] = 0.006\n",
      "[4] = 0.006\n",
      "[5] = 0.006\n",
      "[6] = 0.0\n",
      "[7] = 0.004\n",
      "[8] = 0.008\n",
      "[9] = 0.995\n",
      "image(predicted) =  9\n"
     ]
    }
   ],
   "source": [
    "import joy\n",
    "import numpy as np\n",
    "\n",
    "g = lambda x : 1 / (1 + np.exp(-x)) #activation function(sigmoid)\n",
    "\n",
    "(X,y) = joy.load_mnist_num(9) #supervised learning\n",
    "W1 = joy.load_mnist_weight('data/w_xh.weights') #already learned\n",
    "Z1 = np.dot(W1, X) #net input\n",
    "A1 = g(Z1) #hidden layer's output\n",
    "\n",
    "W2 = joy.load_mnist_weight('data/w_hy.weights') #already learned\n",
    "Z2 = np.dot(W2, A1) #net input\n",
    "yhat = g(Z2) #last output\n",
    "\n",
    "print('image(class label):', y)\n",
    "# print('predict:', np.round_(yhat, 3))\n",
    "# print yhat one by one\n",
    "for i, iyhat in enumerate(yhat):\n",
    "    print('[{}] = {}'.format(i, np.round(yhat[i], 3)))\n",
    "    \n",
    "print('image(predicted) = ', np.argmax(yhat))"
   ]
  },
  {
   "cell_type": "code",
   "execution_count": 9,
   "metadata": {},
   "outputs": [
    {
     "name": "stdout",
     "output_type": "stream",
     "text": [
      "(0) class label:5, predict:5, probability:0.9969934729927533\n",
      "(1) class label:0, predict:0, probability:0.9949362816492308\n",
      "(2) class label:4, predict:4, probability:0.9795043269753221\n",
      "(3) class label:1, predict:1, probability:0.9759860917838176\n",
      "(4) class label:9, predict:9, probability:0.9946090931620719\n"
     ]
    }
   ],
   "source": [
    "import joy\n",
    "import numpy as np\n",
    "\n",
    "g = lambda x : 1 / (1 + np.exp(-x)) #activation function(sigmoid)\n",
    "\n",
    "num_list = [5, 0, 4, 1, 9]\n",
    "\n",
    "for i, num in enumerate(num_list):\n",
    "    (X,y) = joy.load_mnist_num(num)\n",
    "    W1 = joy.load_mnist_weight('data/w_xh.weights') \n",
    "    Z1 = np.dot(W1, X) \n",
    "    A1 = g(Z1) \n",
    "    W2 = joy.load_mnist_weight('data/w_hy.weights')\n",
    "    Z2 = np.dot(W2, A1)\n",
    "    yhat = g(Z2)\n",
    "    \n",
    "    max_index = np.argmax(yhat)\n",
    "    print('({}) class label:{}, predict:{}, probability:{}'\n",
    "         .format(i, num, max_index, yhat[max_index]))"
   ]
  },
  {
   "cell_type": "code",
   "execution_count": 10,
   "metadata": {},
   "outputs": [
    {
     "name": "stdout",
     "output_type": "stream",
     "text": [
      "4\n"
     ]
    }
   ],
   "source": [
    "A = [1,2,3,4]\n",
    "B = np.max(A)\n",
    "print(B)"
   ]
  },
  {
   "cell_type": "code",
   "execution_count": null,
   "metadata": {},
   "outputs": [],
   "source": []
  }
 ],
 "metadata": {
  "kernelspec": {
   "display_name": "Python 3",
   "language": "python",
   "name": "python3"
  },
  "language_info": {
   "codemirror_mode": {
    "name": "ipython",
    "version": 3
   },
   "file_extension": ".py",
   "mimetype": "text/x-python",
   "name": "python",
   "nbconvert_exporter": "python",
   "pygments_lexer": "ipython3",
   "version": "3.6.6"
  }
 },
 "nbformat": 4,
 "nbformat_minor": 2
}
